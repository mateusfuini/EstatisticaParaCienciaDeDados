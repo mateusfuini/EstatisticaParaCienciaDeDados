{
 "cells": [
  {
   "cell_type": "markdown",
   "id": "c88c62b5-3689-4dc5-b2ad-4c0fef6238a8",
   "metadata": {},
   "source": [
    "# D1AED: Análise Estatística para Ciência de Dados (IFSP Campinas)"
   ]
  },
  {
   "cell_type": "markdown",
   "id": "33dc4361-93b0-4ad5-9882-8e72e676d6ab",
   "metadata": {},
   "source": [
    "## Atividade em Grupo 1\n",
    "Nesta atividade, cada grupo (**máximo de 3 integrantes**) deverá resolver a lista de exercícios presentes neste notebook. Todos os exercícios deverão ser respondidos no próprio notebook usando Python. \n",
    "\n",
    "#### Submissão\n",
    "- Cada grupo deverá submeter um **arquivo .zip** contendo o _notebook_ com as respostas e a pasta `datasets`, contendo todos os datasets usados no notebook;\n",
    "- A submissão da atividade será feita em tarefa específica no Moodle da disciplina;\n",
    "- Apenas **um membro do grupo** deverá submeter a atividade;\n",
    "- Há materiais de apoio/estudos na tarefa do Moodle.\n",
    "\n"
   ]
  },
  {
   "cell_type": "markdown",
   "id": "4d2e16c5-d653-471e-8dcc-ed41be3ea64e",
   "metadata": {},
   "source": [
    "#### **Nomes e Prontuários dos Integrantes do Grupo (máx 3):**\n",
    "- Mateus Guilherme Fuini\n",
    "- Michelle Melo Cavalcante"
   ]
  },
  {
   "cell_type": "markdown",
   "id": "ad2d02fd-d5f1-4e37-b479-75016b6ec2ad",
   "metadata": {},
   "source": [
    "### Question 1\n",
    "At a given university, forty percent of students speak three languages. When randomly selecting 15 students:"
   ]
  },
  {
   "cell_type": "markdown",
   "id": "ee426368-cf31-4bb5-935d-e75289acda0d",
   "metadata": {},
   "source": [
    "**(a)** What is the probability that 3 students speak three languages?"
   ]
  },
  {
   "cell_type": "code",
   "execution_count": 1,
   "id": "e79b2a0b-69a2-4641-8a5a-106a539f6f2c",
   "metadata": {},
   "outputs": [
    {
     "name": "stdout",
     "output_type": "stream",
     "text": [
      "P=0.06338790162431997\n"
     ]
    }
   ],
   "source": [
    "#Binomial Distribution P(X=3)\n",
    "from scipy.stats import binom\n",
    "n=15\n",
    "p=0.4\n",
    "x=3\n",
    "prob = binom.pmf(x, n, p)\n",
    "print(f'P={prob}')"
   ]
  },
  {
   "cell_type": "markdown",
   "id": "0498cec8-83a0-405c-b9d4-87f167ad06e6",
   "metadata": {},
   "source": [
    "**(b)** What is the probability that 12 students do not speak three languages?"
   ]
  },
  {
   "cell_type": "code",
   "execution_count": 2,
   "id": "bf3f4bcc-16ed-4ad8-9401-09183c26cd97",
   "metadata": {},
   "outputs": [
    {
     "name": "stdout",
     "output_type": "stream",
     "text": [
      "P=0.06338790162431997\n"
     ]
    }
   ],
   "source": [
    "#forty percent (p) speak three languanges -> sixty percent (q) not speak\n",
    "x=12\n",
    "q=1-p\n",
    "prob = binom.pmf(x, n, q)\n",
    "print(f'P={prob}')"
   ]
  },
  {
   "cell_type": "markdown",
   "id": "704401e9-3ce6-4408-a4ef-f76e90c4606c",
   "metadata": {},
   "source": [
    "**(c)** What is the probability that at least 3 students speak three languages?"
   ]
  },
  {
   "cell_type": "code",
   "execution_count": 3,
   "id": "edd3a762-3f0e-4b56-87da-a1e3e7c68bcc",
   "metadata": {},
   "outputs": [
    {
     "name": "stdout",
     "output_type": "stream",
     "text": [
      "P=0.909498097598464\n"
     ]
    }
   ],
   "source": [
    "#Survival (1-CDF) P(X>2)\n",
    "prob = binom.sf(3, n, p)\n",
    "print(f'P={prob}')"
   ]
  },
  {
   "cell_type": "markdown",
   "id": "b5f9d848-85a6-4720-a5d1-c415a55384ab",
   "metadata": {},
   "source": [
    "### Question 2\n",
    "\n",
    "The mean of defects in ethernet cables manufactured by a company is 1.2 defects for every 6 meters of length. \n",
    "What is the probability of getting less than 2 defects when inspecting 6 meters of cable at random?"
   ]
  },
  {
   "cell_type": "code",
   "execution_count": 4,
   "id": "20166869-128d-493e-bd45-4de707434b74",
   "metadata": {},
   "outputs": [
    {
     "name": "stdout",
     "output_type": "stream",
     "text": [
      "p=0.6626272662068446\n",
      "p=0.6\n"
     ]
    }
   ],
   "source": [
    "#Duvida\n",
    "from scipy.stats import poisson\n",
    "lambida = 1.2\n",
    "# x < 2\n",
    "prob = poisson.pmf(0, lambida) #prob = binom.cdf(x, lambida)\n",
    "prob += poisson.pmf(1, lambida)\n",
    "print(f'p={prob}')\n",
    "\n",
    "#Binominal (P(x=0)+P(x=1) - mean=np = p=mean/n\n",
    "n=2\n",
    "mean=1.2\n",
    "prob=mean/n\n",
    "print(f'p={prob}')"
   ]
  },
  {
   "cell_type": "markdown",
   "source": [],
   "metadata": {
    "collapsed": false
   }
  },
  {
   "cell_type": "markdown",
   "id": "30e5cb9d-7dbb-4a38-9942-6a2fd70085ae",
   "metadata": {},
   "source": [
    "### Question 3\n",
    "\n",
    "Patients with a serious illness have been treated by a drug that causes a side effect at a rate of three patiences in a hundred. When selecting ten patients treated with this drug, what is the chance that at least one will have side effects?"
   ]
  },
  {
   "cell_type": "code",
   "execution_count": 5,
   "id": "d6b7126e-bf15-43a2-8d8a-e6932dbaa1ac",
   "metadata": {},
   "outputs": [
    {
     "name": "stdout",
     "output_type": "stream",
     "text": [
      "p=0.03450655550870217\n"
     ]
    }
   ],
   "source": [
    "#P(X>=1)\n",
    "from scipy.stats import binom\n",
    "n=10\n",
    "p=3/100\n",
    "x=1\n",
    "# for x in range(1, n+1):\n",
    "#     prob += binom.pmf(x, n, p)\n",
    "prob = binom.sf(1, n, p)\n",
    "print(f'p={prob}')"
   ]
  },
  {
   "cell_type": "markdown",
   "id": "7f1317f5-359c-4138-8062-cc7dcdb0e565",
   "metadata": {},
   "source": [
    "### Question 4\n",
    "\n",
    "The length of a human pregnancy approximates a normal distribution with a mean of 272 days with a standard deviation of 9 days."
   ]
  },
  {
   "cell_type": "markdown",
   "id": "750e4111-b478-4151-a66b-ed05b514bcf2",
   "metadata": {},
   "source": [
    "**(a)** What proportion of all pregnancies will last between 265 and 280 days?"
   ]
  },
  {
   "cell_type": "code",
   "execution_count": 6,
   "id": "399ba8bb-9c02-4f03-a672-cd3b1e096ec1",
   "metadata": {},
   "outputs": [
    {
     "name": "stdout",
     "output_type": "stream",
     "text": [
      "p=0.5946185858931798\n"
     ]
    }
   ],
   "source": [
    "from scipy.stats import norm\n",
    "#P(265<=Z<=280)\n",
    "mean = 272\n",
    "std = 9\n",
    "a = 265\n",
    "b = 280\n",
    "p=norm.cdf(b,loc=mean, scale=std) - norm.cdf(a,loc=mean, scale=std)\n",
    "print(f'p={p}')"
   ]
  },
  {
   "cell_type": "markdown",
   "id": "6d3cf0c9-5d09-4180-a78f-e3d23b2b9437",
   "metadata": {},
   "source": [
    "**(b)** What length of time marks the shortest 70% of all pregnancies? "
   ]
  },
  {
   "cell_type": "markdown",
   "source": [],
   "metadata": {
    "collapsed": false
   }
  },
  {
   "cell_type": "code",
   "execution_count": 7,
   "id": "462eb623-0e2b-4a14-9f33-593ac9f5dfa8",
   "metadata": {},
   "outputs": [
    {
     "name": "stdout",
     "output_type": "stream",
     "text": [
      "p=276.7196046143724\n"
     ]
    }
   ],
   "source": [
    "print(f'p={norm.ppf(0.7,loc=mean, scale=std)}')"
   ]
  },
  {
   "cell_type": "markdown",
   "id": "70f08783-93a7-418c-a8c8-66e9927c76a7",
   "metadata": {},
   "source": [
    "### Question 5\n",
    "\n",
    "The average numbers of traffic accidents on a certain section of highway is 0.5 per week. Find the probability that:"
   ]
  },
  {
   "cell_type": "markdown",
   "id": "3e148e3f-4a72-4215-8506-f6233bf0a1ed",
   "metadata": {},
   "source": [
    "**(a)** There will be less than 2 accidents in a week selected at random:"
   ]
  },
  {
   "cell_type": "code",
   "execution_count": 1,
   "id": "5e7b4c08-5efa-47f4-84f8-d9034f8b1283",
   "metadata": {},
   "outputs": [
    {
     "name": "stdout",
     "output_type": "stream",
     "text": [
      "P=0.9097959895689501\n"
     ]
    }
   ],
   "source": [
    "from scipy.stats import poisson\n",
    "lambida = 0.5\n",
    "x = 2-1 #P < 2\n",
    "prob = poisson.cdf(x, lambida)\n",
    "print(f'P={prob}')"
   ]
  },
  {
   "cell_type": "markdown",
   "id": "63d04db5-a3d0-4a45-b65e-897eddd76423",
   "metadata": {},
   "source": [
    "**(b)** In a particular week, there will be more than 2 accidents:"
   ]
  },
  {
   "cell_type": "code",
   "execution_count": 2,
   "id": "7f11881b-dee1-4f53-a2da-c68623fc20f9",
   "metadata": {},
   "outputs": [
    {
     "name": "stdout",
     "output_type": "stream",
     "text": [
      "p=0.01438767796697068\n"
     ]
    }
   ],
   "source": [
    "x=2\n",
    "prob = poisson.sf(x, lambida)\n",
    "print(f'p={prob}')"
   ]
  },
  {
   "cell_type": "markdown",
   "id": "5ea44b99-a413-4195-a99b-85b9d9ced692",
   "metadata": {},
   "source": [
    "**(c)** There will be no accidents in three weeks:"
   ]
  },
  {
   "cell_type": "code",
   "execution_count": 10,
   "id": "7291a076-76fe-4e9b-8d6a-bca283de43cb",
   "metadata": {},
   "outputs": [
    {
     "name": "stdout",
     "output_type": "stream",
     "text": [
      "p=0.22313016014842982\n"
     ]
    }
   ],
   "source": [
    "lambida = 0.5*3\n",
    "x = 0\n",
    "prob = poisson.cdf(x, lambida)\n",
    "print(f'p={prob}')"
   ]
  },
  {
   "cell_type": "markdown",
   "id": "75d9cc65-ae23-43f8-ba83-86776b8c8ad3",
   "metadata": {},
   "source": [
    "### Question 6\n",
    "\n",
    "A factory produces chocolates in boxes of 200. The probability of missing one chocolate in a box is 0.006. What is the probability that a randomly selected box is missing at most two chocolates? <br/>\n",
    "**Tip:** [Poisson Approximation to the Binomial.](https://bestmaths.net/online/index.php/year-levels/year-12/year-12-topic-list/poisson-approximation-binomial/#:~:text=Poisson%20Approximation%20to%20the%20Binomial&text=When%20the%20value%20of%20n,Poisson%20is%20a%20good%20approximation.)"
   ]
  },
  {
   "cell_type": "code",
   "execution_count": 11,
   "id": "714b9c56-7f7b-48e5-a18f-7b700b26f1a2",
   "metadata": {},
   "outputs": [
    {
     "name": "stdout",
     "output_type": "stream",
     "text": [
      "Poisson p=0.2168598325767855\n",
      "Binomial p=0.21760039924050648\n"
     ]
    }
   ],
   "source": [
    "from scipy.stats import poisson\n",
    "n=200\n",
    "p=0.006\n",
    "lambida=n*p\n",
    "x=2\n",
    "prob = poisson.pmf(x, lambida)\n",
    "print(f'Poisson p={prob}')\n",
    "prob = binom.pmf(x,n,p)\n",
    "print(f'Binomial p={prob}')"
   ]
  },
  {
   "cell_type": "markdown",
   "id": "c0df96d4-0b29-463c-91d2-a43abe467df6",
   "metadata": {},
   "source": [
    "### Question 7\n",
    "In a town, the distance traveled by students to school is normally distributed with $\\mu=7.5$km and $\\sigma=2.5$km."
   ]
  },
  {
   "cell_type": "markdown",
   "id": "a54af25b-f3d0-42dc-b360-a2d16ff6a296",
   "metadata": {},
   "source": [
    "**(a)** What is the probability that the distance covered by a randomly selected student is less than 11 km?"
   ]
  },
  {
   "cell_type": "code",
   "execution_count": 12,
   "id": "f12aa861-813b-4d21-9ff9-40c44e5b4e44",
   "metadata": {},
   "outputs": [
    {
     "name": "stdout",
     "output_type": "stream",
     "text": [
      "p=0.9192433407662289\n"
     ]
    }
   ],
   "source": [
    "from scipy.stats import norm\n",
    "mean=7.5\n",
    "std = 2.5\n",
    "a=11\n",
    "prob=norm.cdf(a,loc=mean, scale=std)\n",
    "print(f'p={prob}')"
   ]
  },
  {
   "cell_type": "markdown",
   "id": "bba1e671-89a0-41d4-bae8-d210f38a81b4",
   "metadata": {},
   "source": [
    "**(b)** What is the probability that the distance covered by a randomly selected student is betweem 5.5 km than 10.5 km?"
   ]
  },
  {
   "cell_type": "code",
   "execution_count": 13,
   "id": "ae375044-41f7-4797-bbdd-c4803ae6826f",
   "metadata": {},
   "outputs": [
    {
     "name": "stdout",
     "output_type": "stream",
     "text": [
      "p=0.6730749311948951\n"
     ]
    }
   ],
   "source": [
    "mean=7.5\n",
    "std = 2.5\n",
    "a=5.5\n",
    "b=10.5\n",
    "prob=norm.cdf(b,loc=mean, scale=std) - norm.cdf(a,loc=mean, scale=std)\n",
    "print(f'p={prob}')"
   ]
  },
  {
   "cell_type": "markdown",
   "id": "aaefb99d-0f76-4d2c-98e4-46da2b6cfa1f",
   "metadata": {},
   "source": [
    "**(c)** Find _d_ such that 10% of the students travel less than _d_ kilometers to school."
   ]
  },
  {
   "cell_type": "code",
   "execution_count": 14,
   "id": "1423d329-014c-4008-b14a-d3217d95bbf4",
   "metadata": {},
   "outputs": [
    {
     "name": "stdout",
     "output_type": "stream",
     "text": [
      "p=4.296121086138499 km\n"
     ]
    }
   ],
   "source": [
    "prob=norm.ppf(0.1,loc=mean, scale=std)\n",
    "print(f'p={prob} km')"
   ]
  },
  {
   "cell_type": "markdown",
   "id": "637478bc-c439-4a30-9a26-2984c9ba236a",
   "metadata": {},
   "source": [
    "**(d)** What is the probability that the mean distance traveled by a random sample of 6 students is less than 5 km? <br/>\n",
    "**Tip:** Central Limit Theorem."
   ]
  },
  {
   "cell_type": "code",
   "execution_count": 15,
   "id": "4348835e-3591-402d-9914-d5dd45c04d90",
   "metadata": {},
   "outputs": [
    {
     "name": "stdout",
     "output_type": "stream",
     "text": [
      "p=0.007152939217714824\n"
     ]
    }
   ],
   "source": [
    "import numpy as np\n",
    "x = 5\n",
    "n=6\n",
    "SE = std/np.sqrt(n)\n",
    "#X\\ ~ N(mean,SE)\n",
    "prob=norm.cdf(x,loc=mean, scale=SE)\n",
    "print(f'p={prob}')"
   ]
  },
  {
   "cell_type": "markdown",
   "id": "1983880e-13ff-44b8-9062-ddbc0ecab388",
   "metadata": {},
   "source": [
    "### Question 8\n",
    "\n",
    "The recovery time of a patient with a certain illness follows a normal distribution with a standard deviation of 2 days.\n",
    " Calculate the confidence level for a sample of 12 patients which indicates that the population recovery\n",
    " time is between 13 and 15 days."
   ]
  },
  {
   "cell_type": "code",
   "id": "5bc2c021-d856-400a-a65c-054673611253",
   "metadata": {
    "pycharm": {
     "name": "#%%\n"
    }
   },
   "source": [
    "from scipy.stats import norm\n",
    "import numpy as np\n",
    "std = 2\n",
    "n=12\n",
    "al=13\n",
    "bl=15\n",
    "#Seeing that P(13<=mean<=15)\n",
    "mean=(bl+al)/2\n",
    "SE=std/np.sqrt(n)\n",
    "cl=norm.cdf(bl,loc=mean,scale=SE) - norm.cdf(al,loc=mean,scale=SE)\n",
    "print(f'The confidence level for this interval: {cl}')\n",
    "#norm.interval(alpha=cl,loc=mean,scale=SE)\n"
   ],
   "execution_count": 16,
   "outputs": [
    {
     "name": "stdout",
     "output_type": "stream",
     "text": [
      "The confidence level for this interval: 0.9167354833364496\n"
     ]
    }
   ]
  },
  {
   "cell_type": "markdown",
   "id": "38a5d6e3-a786-4a0c-ac72-7b5c12df9fea",
   "metadata": {},
   "source": [
    "### Question 9\n",
    "\n",
    "John moved out to _Stats City_ for work. John needs to rent a place to live, so he has compiled a list of 60 apartments randomly chosen from the EasyRent real estate. This compilation is stored at the dataset `'./datasets/rents.csv'`, where the column `price` is the monthly rent price in dollars."
   ]
  },
  {
   "cell_type": "code",
   "execution_count": 17,
   "outputs": [],
   "source": [
    "import pandas as pd\n",
    "from scipy.stats import norm\n",
    "import numpy as np\n",
    "import seaborn as sns"
   ],
   "metadata": {
    "collapsed": false,
    "pycharm": {
     "name": "#%%\n"
    }
   }
  },
  {
   "cell_type": "code",
   "execution_count": 18,
   "outputs": [],
   "source": [
    "df = pd.read_csv('./datasets/rents.csv')\n",
    "df = df['price']\n",
    "std = df.std()\n",
    "cl=0.95"
   ],
   "metadata": {
    "collapsed": false,
    "pycharm": {
     "name": "#%%\n"
    }
   }
  },
  {
   "cell_type": "code",
   "execution_count": 19,
   "outputs": [],
   "source": [
    "def ci_calc(dfr, cl, n=-1, stdpop=-1, k=10000):\n",
    "    \"\"\"\n",
    "    :param dfr: DataFrame\n",
    "    :param cl: Confidence Level\n",
    "    :param n:  Sample Size - default=-1 = Population\n",
    "    :param stdpop: Standard deviation default=-1 = std Population\n",
    "    :param k: Number of samples\n",
    "    :return:\n",
    "    \"\"\"\n",
    "    cl=float(cl)\n",
    "    sampling = pd.DataFrame(columns=[''])\n",
    "    s_sd = pd.DataFrame(columns=[''])\n",
    "    if n ==-1:\n",
    "        s=dfr\n",
    "        n = s.count()\n",
    "    else:\n",
    "        for i in range(k):\n",
    "          sampling = dfr.sample(n, random_state=i)  # resampling\n",
    "          sampling.reset_index(drop=True, inplace=True)\n",
    "          s_sd[f'{i}']=sampling #s_sd=s_sd.append(sampling)  pd.concat((s_sd,sampling),axis=0)\n",
    "        s = s_sd.mean() #Sampling Distribution\n",
    "    mean_n = s.mean()\n",
    "    if stdpop ==-1:\n",
    "        se_n = s.std()/np.sqrt(n)\n",
    "    else:\n",
    "        se_n = stdpop/np.sqrt(n)\n",
    "    #sns.histplot(s, kde=True)\n",
    "    return norm.interval(alpha=cl, loc=mean_n, scale=se_n), mean_n\n",
    "\n",
    "def bt_calc(dfr, cl, n=-1, k=10000):\n",
    "    cl=float(cl)\n",
    "    bs_sd = pd.DataFrame(columns=[''])\n",
    "    if n ==-1:\n",
    "        s_n = dfr\n",
    "        n = s_n.count()\n",
    "    else:\n",
    "        if n>dfr.count():\n",
    "            s_n=dfr.sample(n, replace=True, random_state=999)\n",
    "        else:\n",
    "            s_n=dfr.sample(n, random_state=999)\n",
    "    bs_sd = sns.algorithms.bootstrap(s_n,n_boot=k,func=np.mean, seed=999)\n",
    "\n",
    "    # for i in range(k):\n",
    "    #   bs_s = s_n.sample(n, replace=True, random_state=i)  # resampling\n",
    "    #   mean = bs_s.mean()\n",
    "    #   bs_sd.loc[i]=mean\n",
    "    alim = (1-cl)/2*100\n",
    "    blim = 100 - (1-cl)/2*100\n",
    "    #sns.histplot(bs_sd, kde=True)\n",
    "    #print(dfr.mean()-np.array(bs_sd).mean())\n",
    "    return (np.percentile(bs_sd, alim), np.percentile(bs_sd, blim)), (bs_sd.mean())"
   ],
   "metadata": {
    "collapsed": false,
    "pycharm": {
     "name": "#%%\n"
    }
   }
  },
  {
   "cell_type": "markdown",
   "id": "ec30039a-5bd7-443a-a153-f951ee6b4617",
   "metadata": {},
   "source": [
    "**(a)** Construct a 95% confidence interval by Central Limit Theorem and Bootstrapping. Compare the results."
   ]
  },
  {
   "cell_type": "code",
   "execution_count": 20,
   "outputs": [
    {
     "name": "stdout",
     "output_type": "stream",
     "text": [
      "Central Limit Theorem - Sampling. C.I (948.3341097527522, 1051.9305569139146)\n",
      "Mean: 1000.1323333333333\n",
      "Bootstrap  - Sampling. (C.I) (949.2041583333333, 1051.604925)\n",
      "Mean: 1000.3519485166667\n"
     ]
    }
   ],
   "source": [
    "r=ci_calc(dfr=df,cl=cl)\n",
    "print(f'Central Limit Theorem - Sampling. C.I {r[0]}\\nMean: {r[1]}')\n",
    "#Bootstrap\n",
    "bt_pop = bt_calc(df,cl)\n",
    "print(f'Bootstrap  - Sampling. (C.I) {bt_pop[0]}\\nMean: {bt_pop[1]}')\n",
    "\n",
    "# n=45\n",
    "# r100d = ci_calc(dfr=df,n=n, cl=cl)\n",
    "# r100c = ci_calc(dfr=df, n=n, cl=cl,stdpop=std)\n",
    "# bt_100 = bt_calc(df,cl,n)\n",
    "# print('C.I. - Known population std n=',n, r100c[0])\n",
    "# print('C.I. - Unknown population std n=',n, r100d[0])\n",
    "# print('C.I - Bootstrap n=',bt_100[0], 'Mean:', bt_100[1])\n",
    "#\n",
    "# n=50\n",
    "# r1000d = ci_calc(dfr=df,n=n, cl=cl)\n",
    "# r1000c = ci_calc(dfr=df, n=n, cl=cl,stdpop=std)\n",
    "# bt_1000 = bt_calc(df,cl,n)\n",
    "# print('C.I. - Known population std n=',n, r1000c[0])\n",
    "# print('C.I. - Unknown population std n=',n, r1000d[0])\n",
    "# print('C.I - Bootstrap n=',bt_1000[0], 'Mean:', bt_1000[1])"
   ],
   "metadata": {
    "collapsed": false,
    "pycharm": {
     "name": "#%%\n"
    }
   }
  },
  {
   "cell_type": "code",
   "execution_count": 21,
   "outputs": [],
   "source": [
    "# plt.figure()\n",
    "# _ = plt.hist(df, bins=7)\n",
    "# # cnfidence interval left line\n",
    "# one_x12, one_y12 = [clt_interval[0],clt_interval[0]], [0, 20]\n",
    "\n",
    "# # cnfidence interval right line\n",
    "# two_x12, two_y12 = [clt_interval[1],clt_interval[1]], [0, 20]\n",
    "# plt.plot(one_x12, one_y12, two_x12, two_y12, marker = 'o')"
   ],
   "metadata": {
    "collapsed": false,
    "pycharm": {
     "name": "#%%\n"
    }
   }
  },
  {
   "cell_type": "code",
   "execution_count": 22,
   "outputs": [
    {
     "data": {
      "text/plain": "                                           Confidence Interval         Mean\nCentral Limit Theorem  (948.3341097527522, 1051.9305569139146)  1000.132333\nBootstrap                     (949.2041583333333, 1051.604925)  1000.351949",
      "text/html": "<div>\n<style scoped>\n    .dataframe tbody tr th:only-of-type {\n        vertical-align: middle;\n    }\n\n    .dataframe tbody tr th {\n        vertical-align: top;\n    }\n\n    .dataframe thead th {\n        text-align: right;\n    }\n</style>\n<table border=\"1\" class=\"dataframe\">\n  <thead>\n    <tr style=\"text-align: right;\">\n      <th></th>\n      <th>Confidence Interval</th>\n      <th>Mean</th>\n    </tr>\n  </thead>\n  <tbody>\n    <tr>\n      <th>Central Limit Theorem</th>\n      <td>(948.3341097527522, 1051.9305569139146)</td>\n      <td>1000.132333</td>\n    </tr>\n    <tr>\n      <th>Bootstrap</th>\n      <td>(949.2041583333333, 1051.604925)</td>\n      <td>1000.351949</td>\n    </tr>\n  </tbody>\n</table>\n</div>"
     },
     "execution_count": 22,
     "metadata": {},
     "output_type": "execute_result"
    }
   ],
   "source": [
    "confidence_interval_table = pd.DataFrame({\n",
    "    'Confidence Interval':[r[0],bt_pop[0]],\n",
    "    'Mean':[r[1], bt_pop[1]]#,\n",
    "    # 'Sample Size: 45': [r100c[0], r100d[0], bt_100[0]],\n",
    "    # 'Mean - 30':[r100c[1], r100d[1], bt_100[1]],\n",
    "    # 'Sample Size: 50': [r1000c[0], r1000d[0], bt_1000[0]],\n",
    "    # 'Mean - 50':[r1000c[1], r1000d[1], bt_1000[1]]\n",
    "}, index=['Central Limit Theorem',\n",
    "          #('Confidence Interval - Unknown population std'),\n",
    "         'Bootstrap']\n",
    ")\n",
    "confidence_interval_table"
   ],
   "metadata": {
    "collapsed": false,
    "pycharm": {
     "name": "#%%\n"
    }
   }
  },
  {
   "cell_type": "markdown",
   "source": [
    "**(b)** To what population of apartments can you appropriately infer from your sample? (your answer may be in Portuguese or English)"
   ],
   "metadata": {
    "collapsed": false
   }
  },
  {
   "cell_type": "markdown",
   "source": [
    "Entre as populações de apartamentos em Stats City e a lista da EasyRent, podemos inferir com maior precisão o segundo caso uma vez que não conhecemos os apartamentos da Stats City. Por causa disso, não podemos tomar como verdade absoluta os dados da lista da EasyRent."
   ],
   "metadata": {
    "collapsed": false,
    "pycharm": {
     "name": "#%% md\n"
    }
   }
  },
  {
   "cell_type": "markdown",
   "id": "529014f9-432e-4eb6-a4d1-1d07804e357e",
   "metadata": {},
   "source": [
    "**(c)** How large a sample of apartments be needed to estimate the population mean within $\\pm$ \\$50.0 with 90% confidence?"
   ]
  },
  {
   "cell_type": "code",
   "execution_count": 23,
   "id": "ece221ba-77b1-4b4b-a0bb-727d2f41082f",
   "metadata": {},
   "outputs": [
    {
     "name": "stdout",
     "output_type": "stream",
     "text": [
      "critical value:1.645\n",
      "minimum sample size: 46\n"
     ]
    }
   ],
   "source": [
    "#Sample size\n",
    "from math import ceil\n",
    "def sample_size(std, cl, e):\n",
    "    \"\"\"\"\n",
    "    std = Standard Deviation\n",
    "    cl = confidence level\n",
    "    e = margin error\n",
    "    :return\n",
    "    sample size, critical value\n",
    "    \"\"\"\n",
    "    cv= abs(norm.ppf((1-cl)/2)) #critical value - z-score\n",
    "    n = (cv * (std / e)) ** 2\n",
    "    return n, cv\n",
    "r = sample_size(df.std(),0.9,50)\n",
    "print(f'critical value:{r[1]:.3f}')\n",
    "print(f'minimum sample size: {int(ceil(r[0]))}')\n"
   ]
  },
  {
   "cell_type": "markdown",
   "id": "7027bb78-6656-4f4e-a9f5-9a68776ccb43",
   "metadata": {},
   "source": [
    "### Question 10\n",
    "\n",
    "In order to estimate the average height of the population of a town, a survey collected a sample containing the height of 400 people chosen at random. The file `'./datasets/heights.csv'` contains the registered heights.\n",
    "\n",
    "The average heights of a random sample of 400 people from a city is 1.75 m. It is known that the heights of the population are random variables that follow a normal distribution with a variance of 0.16."
   ]
  },
  {
   "cell_type": "markdown",
   "id": "ce5098c0-4aaa-4b9c-9b72-f87802e09f5b",
   "metadata": {
    "pycharm": {
     "name": "#%% md\n"
    }
   },
   "source": [
    "**(a)** Construct a 95% confidence interval by using the Central Limit Theorem and Bootstrapping. Compare the results."
   ]
  },
  {
   "cell_type": "code",
   "execution_count": 24,
   "outputs": [],
   "source": [
    "import pandas as pd\n",
    "df = pd.read_csv('./datasets/heights.csv')\n",
    "df = df['height']\n",
    "mean = 175\n",
    "N=df.count()\n",
    "std = df.std()\n",
    "var=0.16\n",
    "cl=0.95\n",
    "k=10000"
   ],
   "metadata": {
    "collapsed": false,
    "pycharm": {
     "name": "#%%\n"
    }
   }
  },
  {
   "cell_type": "code",
   "execution_count": 25,
   "outputs": [
    {
     "name": "stdout",
     "output_type": "stream",
     "text": [
      "Central Limit Theorem - Sampling. C.I (1.7127830782828979, 1.7912559473821412)\n",
      "Mean: 1.7520195128325196\n",
      "Bootstrap  - Sampling. (C.I) (1.7124639138950892, 1.7911462945995809)\n",
      "Mean: 1.7518175681968393\n"
     ]
    },
    {
     "data": {
      "text/plain": "                                            Confidence Interval      Mean\nCentral Limit Theorem  (1.7127830782828979, 1.7912559473821412)  1.752020\nBootstrap              (1.7124639138950892, 1.7911462945995809)  1.751818",
      "text/html": "<div>\n<style scoped>\n    .dataframe tbody tr th:only-of-type {\n        vertical-align: middle;\n    }\n\n    .dataframe tbody tr th {\n        vertical-align: top;\n    }\n\n    .dataframe thead th {\n        text-align: right;\n    }\n</style>\n<table border=\"1\" class=\"dataframe\">\n  <thead>\n    <tr style=\"text-align: right;\">\n      <th></th>\n      <th>Confidence Interval</th>\n      <th>Mean</th>\n    </tr>\n  </thead>\n  <tbody>\n    <tr>\n      <th>Central Limit Theorem</th>\n      <td>(1.7127830782828979, 1.7912559473821412)</td>\n      <td>1.752020</td>\n    </tr>\n    <tr>\n      <th>Bootstrap</th>\n      <td>(1.7124639138950892, 1.7911462945995809)</td>\n      <td>1.751818</td>\n    </tr>\n  </tbody>\n</table>\n</div>"
     },
     "execution_count": 25,
     "metadata": {},
     "output_type": "execute_result"
    }
   ],
   "source": [
    "r=ci_calc(dfr=df,cl=cl)\n",
    "print(f'Central Limit Theorem - Sampling. C.I {r[0]}\\nMean: {r[1]}')\n",
    "#Bootstrap\n",
    "bt_pop = bt_calc(df,cl)\n",
    "print(f'Bootstrap  - Sampling. (C.I) {bt_pop[0]}\\nMean: {bt_pop[1]}')\n",
    "# r=ci_calc(dfr=df,cl=cl)\n",
    "# print(f'Confidence Interval (C.I) - Population = {r[0]} - Mean {r[1]}')\n",
    "# bt_pop = bt_calc(df,cl,k=k)\n",
    "# print(f'Confidence Interval (C.I) - Bootstrapping  N={df.count()} = {bt_pop[0]} - Mean:{bt_pop[1]}')\n",
    "# n=100\n",
    "# r100c = ci_calc(dfr=df, n=n, cl=cl,stdpop=std)\n",
    "# print(f'C.I. - Known population std n={n} = {r100c[0]} - Mean={r100c[1]}')\n",
    "# r100d = ci_calc(dfr=df, n=n, cl=cl)\n",
    "# print(f'C.I. - Unknown population std n={n} = {r100d[0]} - Mean={r100d[1]}')\n",
    "# bt_100 = bt_calc(df,cl,n=n,k=k)\n",
    "# print(f'C.I - Bootstrapping n={n} = {bt_100[0]} - Mean={bt_100[1]} - Mean={bt_100[1]}')\n",
    "# n=350\n",
    "# r1000c = ci_calc(dfr=df, n=n, cl=cl,stdpop=std)\n",
    "# print(f'C.I. - Known population std n={n} = {r1000c[0]} - Mean={r1000c[1]}')\n",
    "# r1000d = ci_calc(dfr=df, n=n, cl=cl)\n",
    "# print(f'C.I. - Unknown population std n={n} = {r1000d[0]} - Mean={r1000d[1]}')\n",
    "# bt_1000 = bt_calc(df,cl,n=n,k=k)\n",
    "# print(f'C.I - Bootstrapping n={n} = {bt_1000[0]} - Mean={bt_1000[1]}')\n",
    "\n",
    "confidence_interval_table = pd.DataFrame({\n",
    "    'Confidence Interval':[r[0],bt_pop[0]],\n",
    "    'Mean':[r[1], bt_pop[1]]#,\n",
    "    # 'Sample Size: 100': [r100c[0],  bt_100[0]],\n",
    "    # 'Mean - 100':[r100c[1], bt_100[1]],\n",
    "    # 'Sample Size: 350': [r1000c[0],  bt_1000[0]],\n",
    "    # 'Mean - 350':[r1000c[1],  bt_1000[1]]\n",
    "}, index=[('Central Limit Theorem'),\n",
    "          ('Bootstrap')]\n",
    ")\n",
    "confidence_interval_table"
   ],
   "metadata": {
    "collapsed": false,
    "pycharm": {
     "name": "#%%\n"
    }
   }
  },
  {
   "cell_type": "markdown",
   "id": "873f491f-02e1-473f-8453-e7a7333fb3d6",
   "metadata": {},
   "source": [
    "**(b)** With a confidence level of 90%, what would the minimum sample size need to be in order for the true mean of the heights to be less than 2 cm from the sample mean?"
   ]
  },
  {
   "cell_type": "code",
   "execution_count": 26,
   "id": "b2b57d67-d39f-4b14-9e84-71f8105ea953",
   "metadata": {},
   "outputs": [
    {
     "name": "stdout",
     "output_type": "stream",
     "text": [
      "critical value:1.645\n",
      "minimum sample size: 1085\n"
     ]
    }
   ],
   "source": [
    "#Sample size\n",
    "cl = 0.9  #confidence level\n",
    "cv=1.645 #z-score for area alpha/2\n",
    "e = 0.02 #cm to m - margin of error\n",
    "r = sample_size(std,cl,e)\n",
    "print(f'critical value:{r[1]:.3f}')\n",
    "print(f'minimum sample size: {int(ceil(r[0]))}')"
   ]
  },
  {
   "cell_type": "markdown",
   "source": [
    "### Question 11\n",
    "\n",
    "Monthly sales for a bakery follow a normal distribution with a standard deviation of \\\\$900.00. By statistically studying sales in the last 9 months, a confidence interval for the mean monthly sales of [\\\\$4,663.00, \\\\$5,839.00] was found."
   ],
   "metadata": {
    "collapsed": false
   }
  },
  {
   "cell_type": "code",
   "execution_count": 27,
   "outputs": [],
   "source": [
    "alim = 4663.00\n",
    "blim = 5839.00\n",
    "n=9\n",
    "std=900\n",
    "SE=std/np.sqrt(n)"
   ],
   "metadata": {
    "collapsed": false,
    "pycharm": {
     "name": "#%%\n"
    }
   }
  },
  {
   "cell_type": "markdown",
   "id": "b2959c7b-a642-4fd4-8e13-551b6d58068e",
   "metadata": {},
   "source": [
    "**(a)** What were the average sales over the nine month period?"
   ]
  },
  {
   "cell_type": "code",
   "execution_count": 28,
   "id": "be4cb3ac-5669-4dc5-ae08-ae338549dc4a",
   "metadata": {},
   "outputs": [
    {
     "name": "stdout",
     "output_type": "stream",
     "text": [
      "The average sales: $5,251.00\n"
     ]
    }
   ],
   "source": [
    "#Seeing that P(4663<=mean<=5839)\n",
    "mean = (alim+blim)/2\n",
    "print(f'The average sales: ${mean:,.2f}')"
   ]
  },
  {
   "cell_type": "markdown",
   "id": "3e1be4ac-39ee-49bb-a34f-db7e7c61e307",
   "metadata": {},
   "source": [
    "**(b)** What is the confidence level for this interval?"
   ]
  },
  {
   "cell_type": "code",
   "execution_count": 29,
   "id": "b3868b6b-69c4-45cd-87ca-0bc750aa6ee1",
   "metadata": {},
   "outputs": [
    {
     "name": "stdout",
     "output_type": "stream",
     "text": [
      "The confidence level for this interval: 0.950004209703559\n"
     ]
    }
   ],
   "source": [
    "cl=norm.cdf(blim,loc=mean,scale=SE) - norm.cdf(alim,loc=mean,scale=SE)\n",
    "print(f'The confidence level for this interval: {cl}')"
   ]
  },
  {
   "cell_type": "markdown",
   "id": "a3ebc2c6-70cd-4484-a152-c6d80c3f8efb",
   "metadata": {},
   "source": [
    "### Question 12\n",
    "\n",
    "A survey was carried out to find out if Brazilians believe that Brazil will win the next world cup. A sample of 1000 Brazilians spread across the country and chosen at random was observed. Your result has been stored in file `./datasets/world_cup.csv`.\n",
    "\n",
    "Construct a 95% confidence interval on the Brazilian population who believes Brazil will win the next world cup. Use the method based on the Central Limit Theorem, Bootstrapping, and compare the results.\n",
    "\n",
    "**Tips**:\n",
    "- [Confidence Intervals for a Population Proportion](https://online.stat.psu.edu/stat100/lesson/9/9.1)\n",
    "- [statsmodels.stats.proportion.proportion_confint](https://www.statsmodels.org/dev/generated/statsmodels.stats.proportion.proportion_confint.html)"
   ]
  },
  {
   "cell_type": "code",
   "execution_count": 30,
   "id": "f9cb41fd-aafa-4eb5-a07d-1eb92f8ba0d5",
   "metadata": {},
   "outputs": [
    {
     "data": {
      "text/plain": "1000"
     },
     "execution_count": 30,
     "metadata": {},
     "output_type": "execute_result"
    }
   ],
   "source": [
    "import statsmodels.api as sm\n",
    "import pandas as pd\n",
    "import numpy as np\n",
    "from statsmodels.stats.proportion import proportion_confint\n",
    "df = pd.read_csv('./datasets/world_cup.csv')\n",
    "df.count()['will_win']"
   ]
  },
  {
   "cell_type": "code",
   "execution_count": 31,
   "outputs": [
    {
     "name": "stdout",
     "output_type": "stream",
     "text": [
      "Confidence Interval - Sampling 44.84% - 51.16% - true percentage=48.00%\n"
     ]
    },
    {
     "data": {
      "text/plain": "(0.4490350501107259, 0.5109649498892741)"
     },
     "execution_count": 31,
     "metadata": {},
     "output_type": "execute_result"
    }
   ],
   "source": [
    "cl=0.95\n",
    "n=int(df.count())\n",
    "t = int(df[df['will_win']].count()) #True values\n",
    "#Alternative 1\n",
    "p=t/n  #% true\n",
    "e = np.sqrt((p*(1-p)/n))\n",
    "print(f'Confidence Interval - Sampling {(p-2*e):.2%} - {(p+2*e):.2%} - true percentage={p:.2%}')\n",
    "#Alternative 2\n",
    "proportion_confint(count=t,nobs=n, alpha=1-cl)"
   ],
   "metadata": {
    "collapsed": false,
    "pycharm": {
     "name": "#%%\n"
    }
   }
  },
  {
   "cell_type": "code",
   "execution_count": 32,
   "outputs": [],
   "source": [
    "d=df.sample(30,replace=True)"
   ],
   "metadata": {
    "collapsed": false,
    "pycharm": {
     "name": "#%%\n"
    }
   }
  },
  {
   "cell_type": "code",
   "execution_count": 33,
   "outputs": [
    {
     "name": "stdout",
     "output_type": "stream",
     "text": [
      "True percentage=48.00%\n",
      "Confidence Interval - n=1000 47.69% - 48.31%\n",
      "Bootstrap - n=1000 44.90% - 51.10%\n"
     ]
    }
   ],
   "source": [
    "#Confidence Interval with Central Limit Theorem - Bootstrapping\n",
    "def ci_prop_calc(dfr, column_name, cl, n,k=100):\n",
    "    cl=float(cl)\n",
    "    sampling = pd.DataFrame()\n",
    "    s_sd = pd.DataFrame()\n",
    "    for i in range(k):\n",
    "        sampling = dfr.sample(n, random_state=i)  # resampling\n",
    "        sampling.reset_index(drop=True, inplace=True)\n",
    "        s_sd[f'{i}']=sampling[sampling[column_name]==True].count() #s_sd=s_sd.append(sampling)  pd.concat((s_sd,sampling),axis=0)\n",
    "        #print(s_sd[f'{i}'])\n",
    "    sumTrue = s_sd.sum(axis=1)\n",
    "    n=k*n\n",
    "    print(f'True percentage={sumTrue[0]/n:.2%}')\n",
    "    return proportion_confint(count=sumTrue[0],nobs=n, alpha=1-cl)\n",
    "def bt_prop_calc(dfr, column_name, cl, n, k=1000):\n",
    "    cl=float(cl)\n",
    "    bs_sd = pd.DataFrame(columns=[''])\n",
    "    s_n=dfr.sample(n, random_state=999)\n",
    "    bs_sd = sns.algorithms.bootstrap(s_n,n_boot=k,func=np.mean, seed=999)\n",
    "\n",
    "    # for i in range(k):\n",
    "    #    bs_s = s_n.sample(n, replace=True, random_state=i)  # resampling\n",
    "    #    mean = bs_s.mean() #mean = s_n[s_n[column_name]==True].count()/n\n",
    "    #    #print(mean)\n",
    "    #    bs_sd.loc[i]=float(mean)\n",
    "    #    #print(bs_sd)\n",
    "    alim = (1-cl)/2*100\n",
    "    blim = 100 - (1-cl)/2*100\n",
    "    #sns.histplot(bs_sd, kde=True)\n",
    "    #print(dfr.mean()-np.array(bs_sd).mean())\n",
    "    return np.percentile(bs_sd, alim), np.percentile(bs_sd, blim), bs_sd.mean()\n",
    "#teste\n",
    "n=df.count()['will_win']\n",
    "r=ci_prop_calc(df,'will_win',0.95,n)\n",
    "print(f'Confidence Interval - n={n} {r[0]:.2%} - {r[1]:.2%}')\n",
    "\n",
    "n=df.count()['will_win']\n",
    "r=bt_prop_calc(df,'will_win',0.95,n,10000)\n",
    "print(f'Bootstrap - n={n} {r[0]:.2%} - {r[1]:.2%}')\n",
    "#\n",
    "# n=20\n",
    "# r=ci_prop_calc(df,'will_win',0.95,n)\n",
    "# print(f'Confidence Interval - n={n} {r[0]:.2%} - {r[1]:.2%}')\n",
    "#\n",
    "# n=500\n",
    "# r=ci_prop_calc(df,'will_win',0.95,n)\n",
    "# print(f'Confidence Interval - n={n} {r[0]:.2%} - {r[1]:.2%}')\n"
   ],
   "metadata": {
    "collapsed": false,
    "pycharm": {
     "name": "#%%\n"
    }
   }
  },
  {
   "cell_type": "code",
   "execution_count": 34,
   "outputs": [],
   "source": [
    "\n",
    "\n",
    "#\n",
    "# n=20\n",
    "# r=bt_prop_calc(df,'will_win',0.95,n,10000)\n",
    "# print(f'Bootstrap - n={n} {r[0]:.2%} - {r[1]:.2%}')\n",
    "#\n",
    "# n=500\n",
    "# r=bt_prop_calc(df,'will_win',0.95,n,10000)\n",
    "# print(f'Bootstrap - n={n} {r[0]:.2%} - {r[1]:.2%}')\n",
    "\n"
   ],
   "metadata": {
    "collapsed": false,
    "pycharm": {
     "name": "#%%\n"
    }
   }
  },
  {
   "cell_type": "markdown",
   "id": "b7ff51c9-c354-411a-926e-6d8a703f35a0",
   "metadata": {},
   "source": [
    "### Question 13\n",
    "\n",
    "The municipal administration wants to estimate the proportion of color blind in the city. For that, they observed a random sample of individuals, where the data is stored in the dataset `'./datasets/color_blind.csv'`. The column `color_blind` tells whether or not the person is colorblind."
   ]
  },
  {
   "cell_type": "code",
   "execution_count": 35,
   "outputs": [
    {
     "data": {
      "text/plain": "       color_blind\ncount           64\nunique           2\ntop          False\nfreq            42",
      "text/html": "<div>\n<style scoped>\n    .dataframe tbody tr th:only-of-type {\n        vertical-align: middle;\n    }\n\n    .dataframe tbody tr th {\n        vertical-align: top;\n    }\n\n    .dataframe thead th {\n        text-align: right;\n    }\n</style>\n<table border=\"1\" class=\"dataframe\">\n  <thead>\n    <tr style=\"text-align: right;\">\n      <th></th>\n      <th>color_blind</th>\n    </tr>\n  </thead>\n  <tbody>\n    <tr>\n      <th>count</th>\n      <td>64</td>\n    </tr>\n    <tr>\n      <th>unique</th>\n      <td>2</td>\n    </tr>\n    <tr>\n      <th>top</th>\n      <td>False</td>\n    </tr>\n    <tr>\n      <th>freq</th>\n      <td>42</td>\n    </tr>\n  </tbody>\n</table>\n</div>"
     },
     "execution_count": 35,
     "metadata": {},
     "output_type": "execute_result"
    }
   ],
   "source": [
    "import pandas as pd\n",
    "df = pd.read_csv('./datasets/color_blind.csv')\n",
    "ci=0.99\n",
    "t = int(df[df['color_blind']].count())\n",
    "df.describe()"
   ],
   "metadata": {
    "collapsed": false,
    "pycharm": {
     "name": "#%%\n"
    }
   }
  },
  {
   "cell_type": "markdown",
   "id": "f37a462c-fe2f-439f-b60e-2062d8de0545",
   "metadata": {},
   "source": [
    "**(a)** Construct a confidence interval for the proportion of the color blind population using a confidence level of 99%. Use the method based on the Central Limit Theorem, Bootstrapping, and compare the results."
   ]
  },
  {
   "cell_type": "code",
   "execution_count": 36,
   "id": "53664136-8ab2-4460-9d11-2af46d811756",
   "metadata": {},
   "outputs": [
    {
     "name": "stdout",
     "output_type": "stream",
     "text": [
      "True percentage=34.38%\n",
      "Confidence Interval - n=64 32.85% - 35.90%\n",
      "\n",
      "####Bootstrap#####\n",
      "\n",
      "Bootstrap population - n=64 18.75% - 50.00%\n"
     ]
    }
   ],
   "source": [
    "#Bootstrap deu um valor bem diferente\n",
    "n=int(df.count())\n",
    "r=ci_prop_calc(df,'color_blind',ci,n)\n",
    "print(f'Confidence Interval - n={n} {r[0]:.2%} - {r[1]:.2%}')\n",
    "# n=20\n",
    "# r=ci_prop_calc(df,'color_blind',ci,n)\n",
    "# print(f'Confidence Interval - n={n} {r[0]:.2%} - {r[1]:.2%}')\n",
    "# n=50\n",
    "# r=ci_prop_calc(df,'color_blind',ci,n)\n",
    "# print(f'Confidence Interval - n={n} {r[0]:.2%} - {r[1]:.2%}')\n",
    "print(f'\\n####Bootstrap#####\\n')\n",
    "n=int(df.count())\n",
    "r=bt_prop_calc(df,'color_blind',ci,n,10000)\n",
    "print(f'Bootstrap population - n={n} {r[0]:.2%} - {r[1]:.2%}')\n",
    "#\n",
    "# n=20\n",
    "# r=bt_prop_calc(df,'color_blind',ci,n,10000)\n",
    "# print(f'Bootstrap - n={n} {r[0]:.2%} - {r[1]:.2%}')\n",
    "#\n",
    "# n=50\n",
    "# r=bt_prop_calc(df,'color_blind',ci,n,10000)\n",
    "# print(f'Bootstrap - n={n} {r[0]:.2%} - {r[1]:.2%}')"
   ]
  },
  {
   "cell_type": "markdown",
   "id": "fd5cd300-c4f7-442c-85a3-b08362d52788",
   "metadata": {},
   "source": [
    "**(b)** Consider that the the percentage of color blind people in the sample is 30%. Estimate the value of _n_ so that, with a significance level of 5%, the error in the estimate is less than 3.1%."
   ]
  },
  {
   "cell_type": "code",
   "execution_count": 37,
   "id": "003fe8b8-3bd0-4a29-afe0-fcecb02c97fd",
   "metadata": {},
   "outputs": [
    {
     "name": "stdout",
     "output_type": "stream",
     "text": [
      "minimum sample size: 840 people\n"
     ]
    }
   ],
   "source": [
    "#Sample size\n",
    "import numpy as np\n",
    "from math import ceil\n",
    "sl = 0.05\n",
    "sp = 0.3\n",
    "cl = 1-sl  #confidence level\n",
    "e = 0.031 #cm to m - margin of error\n",
    "r = np.power((abs(norm.ppf(sl/2))*(np.sqrt(sp*(1-sp))))/e,2)\n",
    "print(f'minimum sample size: {int(ceil(r))} people')"
   ]
  },
  {
   "cell_type": "markdown",
   "id": "9e37e951-39f7-48b9-a6a8-7244f4d3fa00",
   "metadata": {},
   "source": [
    "### Question 14\n",
    "\n",
    "The GoodFood restaurant offers _lunch_ and _dinner_ meals. There are two types of drinks: _juice_ and _soda_. GoodFood's manager suspects customers drink more soda at dinner. The manager randomly selects data from the system and the data was stored in the dataset `./datasets/goodfood.csv`. Each row contains the information of the meal time (column `meal`) and type of drink (column `drink`) ordered by the customer.\n",
    "\n",
    "Construct a 98% confidence interval for the proportion of ordering _soda_ for _dinner_ hours. Use the method based on the Central Limit Theorem, Bootstrapping, and compare the results."
   ]
  },
  {
   "cell_type": "code",
   "execution_count": 38,
   "id": "e05191a9-b147-4daf-931a-dbe9d125cb00",
   "metadata": {},
   "outputs": [
    {
     "data": {
      "text/plain": "count       107\nunique        2\ntop       False\nfreq         66\ndtype: object"
     },
     "execution_count": 38,
     "metadata": {},
     "output_type": "execute_result"
    }
   ],
   "source": [
    "import pandas as pd\n",
    "df = pd.read_csv('./datasets/goodfood.csv')\n",
    "df_filtered=(df['drink']==\"Soda\") & (df['meal']==\"Dinner\")\n",
    "cl=0.98\n",
    "std=df_filtered.std()\n",
    "df_filtered.describe()"
   ]
  },
  {
   "cell_type": "code",
   "execution_count": 39,
   "outputs": [
    {
     "name": "stdout",
     "output_type": "stream",
     "text": [
      "Central Limit Theorem - Sampling. C.I (0.2733271191770059, 0.49302802100990994)\n",
      "Mean: 0.38317757009345793\n",
      "Bootstrap  - Sampling. (C.I) (0.2803738317757009, 0.4953271028037383)\n",
      "Mean: 0.3824831775700934\n",
      "\n",
      "\n"
     ]
    }
   ],
   "source": [
    "r=ci_calc(dfr=df_filtered,cl=cl)\n",
    "bt_pop = bt_calc(df_filtered,cl)\n",
    "print(f'Central Limit Theorem - Sampling. C.I {r[0]}\\nMean: {r[1]}')\n",
    "print(f'Bootstrap  - Sampling. (C.I) {bt_pop[0]}\\nMean: {bt_pop[1]}')\n",
    "print('\\n')\n",
    "# n=45\n",
    "# r100d = ci_calc(dfr=df_filtered,n=n, cl=cl)\n",
    "# r100c = ci_calc(dfr=df_filtered, n=n, cl=cl,stdpop=std)\n",
    "# bt_100 = bt_calc(df_filtered,cl,n=45)\n",
    "# print('C.I. - Known population std n=',n, r100c[0])\n",
    "# print('C.I. - Unknown population std n=',n, r100d[0])\n",
    "# print('C.I - Bootstrapping n=',bt_100[0], 'Mean:', bt_100[1])\n",
    "# print('\\n')\n",
    "# n=50\n",
    "# r1000d = ci_calc(dfr=df_filtered,n=n, cl=cl)\n",
    "# r1000c = ci_calc(dfr=df_filtered, n=n, cl=cl,stdpop=std)\n",
    "# bt_1000 = bt_calc(df_filtered,cl,n=50)\n",
    "# print('C.I. - Known population std n=',n, r1000c[0])\n",
    "# print('C.I. - Unknown population std n=',n, r1000d[0])\n",
    "# print('C.I - Bootstrapping n=',bt_1000[0], 'Mean:', bt_1000[1])\n"
   ],
   "metadata": {
    "collapsed": false,
    "pycharm": {
     "name": "#%%\n"
    }
   }
  },
  {
   "cell_type": "code",
   "execution_count": 40,
   "outputs": [
    {
     "data": {
      "text/plain": "                                                   Sampling: 107      Mean\nCentral Limit Theorem  (0.2733271191770059, 0.49302802100990994)  0.383178\nBootstrap               (0.2803738317757009, 0.4953271028037383)  0.382483",
      "text/html": "<div>\n<style scoped>\n    .dataframe tbody tr th:only-of-type {\n        vertical-align: middle;\n    }\n\n    .dataframe tbody tr th {\n        vertical-align: top;\n    }\n\n    .dataframe thead th {\n        text-align: right;\n    }\n</style>\n<table border=\"1\" class=\"dataframe\">\n  <thead>\n    <tr style=\"text-align: right;\">\n      <th></th>\n      <th>Sampling: 107</th>\n      <th>Mean</th>\n    </tr>\n  </thead>\n  <tbody>\n    <tr>\n      <th>Central Limit Theorem</th>\n      <td>(0.2733271191770059, 0.49302802100990994)</td>\n      <td>0.383178</td>\n    </tr>\n    <tr>\n      <th>Bootstrap</th>\n      <td>(0.2803738317757009, 0.4953271028037383)</td>\n      <td>0.382483</td>\n    </tr>\n  </tbody>\n</table>\n</div>"
     },
     "execution_count": 40,
     "metadata": {},
     "output_type": "execute_result"
    }
   ],
   "source": [
    "confidence_interval_table = pd.DataFrame({\n",
    "    f'Sampling: {df_filtered.count():}':[r[0],bt_pop[0]],\n",
    "    'Mean':[r[1], bt_pop[1]]#,\n",
    "    # 'Sample Size: 45': [r100c[0], r100d[0], bt_100[0]],\n",
    "    # 'Mean - 45':[r100c[1], r100d[1], bt_100[1]],\n",
    "    # 'Sample Size: 50': [r1000c[0], r1000d[0], bt_1000[0]],\n",
    "    # 'Mean - 50':[r1000c[1], r1000d[1], bt_1000[1]]\n",
    "}, index=['Central Limit Theorem',\n",
    "          #'Confidence Interval - Unknown population std',\n",
    "         'Bootstrap']\n",
    ")\n",
    "confidence_interval_table"
   ],
   "metadata": {
    "collapsed": false,
    "pycharm": {
     "name": "#%%\n"
    }
   }
  },
  {
   "cell_type": "code",
   "execution_count": 2,
   "outputs": [],
   "source": [],
   "metadata": {
    "collapsed": false,
    "pycharm": {
     "name": "#%%\n"
    }
   }
  },
  {
   "cell_type": "code",
   "execution_count": 41,
   "outputs": [],
   "source": [
    "# #Teste\n",
    "# source = pd.read_csv('./datasets/healthcare-dataset-stroke-data.csv')\n",
    "# source.head()\n",
    "# df = source['avg_glucose_level']\n",
    "# mean = df.mean()\n",
    "# N=df.count()\n",
    "# std = df.std()\n",
    "# cl=0.95\n",
    "# k=10000\n",
    "# # r=ci_calc(dfr=df,cl=cl)\n",
    "# # print(f'Confidence Interval (C.I) - Population = {r[0]} - Mean {r[1]}')\n",
    "# # bt_pop = bt_calc(df,cl,k=k)\n",
    "# # print(f'Confidence Interval (C.I) - Bootstrapping  N={df.count()} = {bt_pop[0]} - Mean:{bt_pop[1]}')\n",
    "# n=100\n",
    "# # r100c = ci_calc(dfr=df, n=n, cl=cl,stdpop=std)\n",
    "# # print(f'C.I. - Known population std n={n} = {r100c[0]} - Mean={r100c[1]}')\n",
    "# # r100d = ci_calc(dfr=df, n=n, cl=cl)\n",
    "# # print(f'C.I. - Unknown population std n={n} = {r100d[0]} - Mean={r100d[1]}')\n",
    "# bt_100 = bt_calc(df,cl,n=n,k=k)\n",
    "# print(f'C.I - Bootstrapping n={n} = {bt_100[0]} - Mean={bt_100[1]} - Mean={bt_100[1]}')\n",
    "# n=1000\n",
    "# # r1000c = ci_calc(dfr=df, n=n, cl=cl,stdpop=std)\n",
    "# # print(f'C.I. - Known population std n={n} = {r1000c[0]} - Mean={r1000c[1]}')\n",
    "# # r1000d = ci_calc(dfr=df, n=n, cl=cl)\n",
    "# # print(f'C.I. - Unknown population std n={n} = {r1000d[0]} - Mean={r1000d[1]}')\n",
    "# bt_1000 = bt_calc(df,cl,n=1000,k=k)\n",
    "# print(f'C.I - Bootstrapping n={n} = {bt_1000[0]} - Mean={bt_1000[1]}')\n",
    "\n",
    "# confidence_interval_table = pd.DataFrame({\n",
    "#     'Population: 60':[r[0],bt_pop[0]],\n",
    "#     'Mean':[r[1], bt_pop[1]],\n",
    "#     'Sample Size: 100': [r100c[0],  bt_100[0]],\n",
    "#     'Mean - 100':[r100c[1], bt_100[1]],\n",
    "#     'Sample Size: 1000': [r1000c[0],  bt_1000[0]],\n",
    "#     'Mean - 1000':[r1000c[1],  bt_1000[1]]\n",
    "# }, index=[('Confidence Interval - Known population std'),\n",
    "#           ('Bootstrap')]\n",
    "# )\n"
   ],
   "metadata": {
    "collapsed": false,
    "pycharm": {
     "name": "#%%\n"
    }
   }
  }
 ],
 "metadata": {
  "kernelspec": {
   "display_name": "Python 3",
   "language": "python",
   "name": "python3"
  },
  "language_info": {
   "codemirror_mode": {
    "name": "ipython",
    "version": 3
   },
   "file_extension": ".py",
   "mimetype": "text/x-python",
   "name": "python",
   "nbconvert_exporter": "python",
   "pygments_lexer": "ipython3",
   "version": "3.9.5"
  }
 },
 "nbformat": 4,
 "nbformat_minor": 5
}